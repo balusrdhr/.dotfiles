{
 "cells": [
  {
   "cell_type": "code",
   "execution_count": 1,
   "id": "indie-bookmark",
   "metadata": {},
   "outputs": [],
   "source": [
    "import numpy as np\n",
    "import matplotlib.pyplot as plt"
   ]
  },
  {
   "cell_type": "code",
   "execution_count": 39,
   "id": "photographic-lyric",
   "metadata": {},
   "outputs": [],
   "source": [
    "def remove_i(x, i):\n",
    "    \"\"\"Drops the ith element of an array.\"\"\" \n",
    "    shape = (x.shape[0]-1,) + x.shape[1:]\n",
    "    y = np.empty(shape, dtype=float)\n",
    "    y[:i] = x[:i]\n",
    "    y[i:] = x[i+1:]\n",
    "    return y"
   ]
  },
  {
   "cell_type": "code",
   "execution_count": 3,
   "id": "western-asian",
   "metadata": {},
   "outputs": [],
   "source": [
    "def a(i, x, G, m):\n",
    "    \"\"\"The acceleration of the ith mass.\"\"\"\n",
    "    x_i = x[i]\n",
    "    x_j = remove_i(x, i)\n",
    "    m_j = remove_i(m, i)\n",
    "    diff = x_j - x_i\n",
    "    mag3 = np.sum(diff**2, axis=1)**1.5\n",
    "    result = G * np.sum(diff * (m_j / mag3)[:,np.newaxis], axis=0) \n",
    "    return result\n"
   ]
  },
  {
   "cell_type": "code",
   "execution_count": 4,
   "id": "specialized-logistics",
   "metadata": {},
   "outputs": [],
   "source": [
    "def timestep(x0, v0, G, m, dt):\n",
    "    \"\"\"Computes the next position and velocity for all masses given\n",
    "    initial conditions and a time step size. \"\"\"\n",
    "    N = len(x0)\n",
    "    x1 = np.empty(x0.shape, dtype=float)\n",
    "    v1 = np.empty(v0.shape, dtype=float) \n",
    "    for i in range(N):\n",
    "                a_i0 = a(i, x0, G, m)\n",
    "                v1[i] = a_i0 * dt + v0[i]\n",
    "                x1[i] = a_i0 * dt**2 + v0[i] * dt + x0[i]\n",
    "    return x1, v1"
   ]
  },
  {
   "cell_type": "code",
   "execution_count": 5,
   "id": "sorted-geography",
   "metadata": {},
   "outputs": [],
   "source": [
    "def initial_cond(N, D):\n",
    "    \"\"\"Generates initial conditions for N unity masses at rest starting at random positions in D-dimensional space.\n",
    "    \"\"\"\n",
    "    x0 = np.random.rand(N, D)\n",
    "    v0 = np.zeros((N, D), dtype=float)\n",
    "    m = np.ones(N, dtype=float)\n",
    "    return x0, v0, m"
   ]
  },
  {
   "cell_type": "code",
   "execution_count": 6,
   "id": "extreme-establishment",
   "metadata": {},
   "outputs": [],
   "source": [
    "x0, v0, m = initial_cond(10, 2)\n",
    "x1, v1 = timestep(x0, v0, 1.0, m, 1.0e-3)"
   ]
  },
  {
   "cell_type": "code",
   "execution_count": 7,
   "id": "honest-combining",
   "metadata": {},
   "outputs": [],
   "source": [
    "def simulate(N, D, S, G, dt):\n",
    "    x0, v0, m = initial_cond(N, D)\n",
    "    for s in range(S):\n",
    "        x1, v1 = timestep(x0, v0, G, m, dt)\n",
    "        x0, v0 = x1, v1"
   ]
  },
  {
   "cell_type": "code",
   "execution_count": 14,
   "id": "excessive-bulgarian",
   "metadata": {},
   "outputs": [
    {
     "name": "stdout",
     "output_type": "stream",
     "text": [
      "doing 2\n",
      "doing 4\n",
      "doing 8\n",
      "doing 16\n",
      "doing 32\n",
      "doing 64\n",
      "doing 128\n",
      "doing 256\n",
      "doing 512\n",
      "doing 1024\n"
     ]
    }
   ],
   "source": [
    "import time\n",
    "Ns = [2, 4, 8, 16, 32, 64, 128, 256, 512, 1024]#, 2048, 4096, 8192] \n",
    "runtimes = []\n",
    "for N in Ns:\n",
    "    print(f\"doing {N}\")\n",
    "    start = time.time()\n",
    "    simulate(N, 3, 300, 1.0, 1e-3)\n",
    "    stop = time.time()\n",
    "    runtimes.append(stop - start)"
   ]
  },
  {
   "cell_type": "code",
   "execution_count": 15,
   "id": "smaller-context",
   "metadata": {},
   "outputs": [
    {
     "data": {
      "text/plain": [
       "[0.03439807891845703,\n",
       " 0.045784950256347656,\n",
       " 0.08867216110229492,\n",
       " 0.18055415153503418,\n",
       " 0.3718130588531494,\n",
       " 0.8080019950866699,\n",
       " 1.808811902999878,\n",
       " 4.603413820266724,\n",
       " 12.55497407913208,\n",
       " 38.26573610305786]"
      ]
     },
     "execution_count": 15,
     "metadata": {},
     "output_type": "execute_result"
    }
   ],
   "source": [
    "runtimes"
   ]
  },
  {
   "cell_type": "code",
   "execution_count": 16,
   "id": "static-overhead",
   "metadata": {},
   "outputs": [
    {
     "data": {
      "text/plain": [
       "[<matplotlib.lines.Line2D at 0x7f8ce0d60ca0>]"
      ]
     },
     "execution_count": 16,
     "metadata": {},
     "output_type": "execute_result"
    },
    {
     "data": {
      "image/png": "[encoded data removed]",
      "text/plain": [
       "<Figure size 432x288 with 1 Axes>"
      ]
     },
     "metadata": {
      "needs_background": "light"
     },
     "output_type": "display_data"
    }
   ],
   "source": [
    "plt.plot(runtimes, Ns)"
   ]
  },
  {
   "cell_type": "code",
   "execution_count": null,
   "id": "nonprofit-april",
   "metadata": {},
   "outputs": [],
   "source": []
  }
 ],
 "metadata": {
  "kernelspec": {
   "display_name": "Python 3",
   "language": "python",
   "name": "python3"
  },
  "language_info": {
   "codemirror_mode": {
    "name": "ipython",
    "version": 3
   },
   "file_extension": ".py",
   "mimetype": "text/x-python",
   "name": "python",
   "nbconvert_exporter": "python",
   "pygments_lexer": "ipython3",
   "version": "3.8.8"
  }
 },
 "nbformat": 4,
 "nbformat_minor": 5
}
